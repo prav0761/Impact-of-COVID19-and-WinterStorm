{
 "cells": [
  {
   "cell_type": "code",
   "execution_count": 1,
   "metadata": {},
   "outputs": [],
   "source": [
    "import os\n",
    "from fig_gen  import FigureGenerator as fg\n",
    "from sklearn.metrics import r2_score\n",
    "import pwlf\n",
    "import pandas as pd\n",
    "import numpy as np\n",
    "import matplotlib.pyplot as plt\n",
    "from tqdm import tqdm\n",
    "from pathlib import Path\n",
    "import seaborn as sns\n",
    "import sklearn\n",
    "from sklearn.linear_model import LinearRegression\n",
    "%matplotlib inline\n",
    "import missingno as msno\n",
    "np.random.seed(19)\n",
    "from matplotlib.pyplot import figure\n",
    "data_directory = '/work2/05067/nagyz/austin_energy/data/'\n",
    "filepaths = [os.path.join(data_directory,f) for f in os.listdir(data_directory) if f.endswith('.csv')]\n",
    "from datetime import datetime \n",
    "from Graphs import load_data,load_graph_kwh,yearly_graph_kwh,load_graph_count,monthly_graph_kwh,daily_graph_kwh\n",
    "from Graphs import load_graph_kwh_and_count,yearly_graph_kwh_and_count,monthly_graph_kwh_and_count,daily_graph_kwh_and_count\n",
    "from agg_and_heatmap_functions import length,prav3,prav2,prav1,dinostorm,plot_aggraph,heatmap,finalheatmap\n",
    "from sklearn.model_selection import train_test_split\n",
    "from sklearn.pipeline import make_pipeline\n",
    "from sklearn.preprocessing import StandardScaler\n",
    "from sklearn.linear_model import RidgeCV, SGDRegressor\n",
    "from sklearn.ensemble import AdaBoostRegressor, RandomForestRegressor,GradientBoostingRegressor\n",
    "from sklearn.metrics import mean_absolute_error, mean_absolute_percentage_error\n",
    "from sklearn.utils import resample\n",
    "from sklearn.linear_model import LinearRegression\n",
    "from sklearn.metrics import mean_squared_error\n",
    "from sklearn.ensemble import RandomForestClassifier\n",
    "from sklearn.linear_model import LassoCV\n",
    "from sklearn.linear_model import Ridge,Lasso\n",
    "from sklearn.model_selection import GridSearchCV,KFold\n",
    "from sklearn.neural_network import MLPRegressor\n",
    "import xgboost as xgb\n",
    "from sklearn.model_selection import RandomizedSearchCV\n",
    "import warnings\n",
    "warnings.filterwarnings('ignore')\n",
    "from sklearn.model_selection import cross_val_score\n",
    "from sklearn.metrics import accuracy_score\n",
    "from sklearn.metrics import mean_squared_error\n",
    "from sklearn.preprocessing import PolynomialFeatures\n",
    "weather_daily=pd.read_csv('Austin_weather_daily.csv')\n",
    "weather_daily['time']=pd.to_datetime(weather_daily['time'],utc=True)\n",
    "weather_daily1=weather_daily.set_index('time',drop=True)\n",
    "weather_austin_daily=weather_daily1['tavg']\n",
    "cool_points=weather_austin_daily[weather_austin_daily<15]['2017-01-01 00:00:00+00:00':'2021-01-31 00:00:00+00:00']\n",
    "# NOT UTC TIME\n",
    "weather_Pred=pd.read_csv('Austin_hourly.csv')\n",
    "weather_Pred['time']=pd.to_datetime(weather_Pred['time'])\n",
    "weather_pred1=weather_Pred.set_index('time',drop=True)\n",
    "weather_austin_hourl_pred=weather_pred1['temp']\n",
    "import geopandas as gpd\n",
    "from sklearn.preprocessing import MinMaxScaler"
   ]
  },
  {
   "cell_type": "code",
   "execution_count": 2,
   "metadata": {},
   "outputs": [
    {
     "data": {
      "text/html": [
       "<div>\n",
       "<style scoped>\n",
       "    .dataframe tbody tr th:only-of-type {\n",
       "        vertical-align: middle;\n",
       "    }\n",
       "\n",
       "    .dataframe tbody tr th {\n",
       "        vertical-align: top;\n",
       "    }\n",
       "\n",
       "    .dataframe thead th {\n",
       "        text-align: right;\n",
       "    }\n",
       "</style>\n",
       "<table border=\"1\" class=\"dataframe\">\n",
       "  <thead>\n",
       "    <tr style=\"text-align: right;\">\n",
       "      <th></th>\n",
       "      <th>Service Point</th>\n",
       "      <th>zipCode</th>\n",
       "    </tr>\n",
       "  </thead>\n",
       "  <tbody>\n",
       "    <tr>\n",
       "      <th>2</th>\n",
       "      <td>-1609</td>\n",
       "      <td>78759</td>\n",
       "    </tr>\n",
       "    <tr>\n",
       "      <th>3</th>\n",
       "      <td>-1608</td>\n",
       "      <td>78759</td>\n",
       "    </tr>\n",
       "    <tr>\n",
       "      <th>12</th>\n",
       "      <td>-1599</td>\n",
       "      <td>78759</td>\n",
       "    </tr>\n",
       "    <tr>\n",
       "      <th>13</th>\n",
       "      <td>-1598</td>\n",
       "      <td>78759</td>\n",
       "    </tr>\n",
       "    <tr>\n",
       "      <th>14</th>\n",
       "      <td>-1597</td>\n",
       "      <td>78759</td>\n",
       "    </tr>\n",
       "  </tbody>\n",
       "</table>\n",
       "</div>"
      ],
      "text/plain": [
       "    Service Point  zipCode\n",
       "2           -1609    78759\n",
       "3           -1608    78759\n",
       "12          -1599    78759\n",
       "13          -1598    78759\n",
       "14          -1597    78759"
      ]
     },
     "execution_count": 2,
     "metadata": {},
     "output_type": "execute_result"
    }
   ],
   "source": [
    "id_list = pd.read_csv('temporal_percentage1.csv')\n",
    "\n",
    "id_list.drop('Unnamed: 0',axis=1,inplace=True)\n",
    "id_list['buildingType'].unique()\n",
    "res_type = ['SINGLE FAMILY', 'MULTIFAMILY',  'FOURPLEX', \n",
    "            'DUPLEX', 'CONDOS', 'CONDO (STACKED)', \n",
    "            '1 FAM DWELLING, ACCESSORY DWELLING UNIT',\n",
    "            'TOWNHOMES','MOHO SINGLE PP', \n",
    "            '1 FAM DWELLING, GARAGE APARTMENT', 'MOHO DOUBLE PP',\n",
    "            'MOHO SINGLE REAL', 'MOHO DOUBLE REAL', 'TRIPLEX', \n",
    "            '1 FAM DWELLING, MOHO DOUBLE REAL',\n",
    "           '1 FAM DWELLING, MOHO SINGLE REAL']\n",
    "res_type_id_list = id_list[id_list['buildingType'].isin(res_type)].copy()\n",
    "res_type_id_list[['Service Point','zipCode']].head()"
   ]
  },
  {
   "cell_type": "code",
   "execution_count": 3,
   "metadata": {},
   "outputs": [],
   "source": [
    "def prepare_data(service_point):\n",
    "    sample=load_data(service_point)\n",
    "    sample=sample.set_index(sample[sample.columns[0]])\n",
    "    sample=sample[sample.columns[1:2]]\n",
    "    sample=sample.resample('D').sum()\n",
    "    return sample\n",
    "def make_features(dataframe,time_level):\n",
    "    s=dataframe\n",
    "    start_time=s.index[0]\n",
    "    end_time=s.index[-1]\n",
    "    example_ts=s\n",
    "    example_ts['dayofyear_cos']=np.cos(example_ts.index.dayofyear*(2.*np.pi/365))\n",
    "    example_ts['dayofyear_sim']=np.sin(example_ts.index.dayofyear*(2.*np.pi/365))\n",
    "    example_ts['month_cos']=np.cos(example_ts.index.month*(2.*np.pi/12))\n",
    "    example_ts['month_sin']=np.sin(example_ts.index.month*(2.*np.pi/12))\n",
    "    example_ts['year'] = example_ts.index.year\n",
    "\n",
    "    for ts in example_ts.index:\n",
    "        if time_level=='hourly':\n",
    "             example_ts.loc[ts:ts, 'TMP'] = weather_austin_hourl_pred[weather_austin_hourl_pred.index == ts] \n",
    "        else:\n",
    "             example_ts.loc[ts:ts, 'TMP'] = weather_austin_hourl_pred[weather_austin_hourl_pred.index == ts]\n",
    "\n",
    "    return example_ts"
   ]
  },
  {
   "cell_type": "code",
   "execution_count": 8,
   "metadata": {},
   "outputs": [],
   "source": [
    "def function(servicepoint):  \n",
    "    s=prepare_data(servicepoint)\n",
    "    s = s.rename(columns={list(s.columns.values)[0]: 'Energy_kwh'})\n",
    "    train_set=s[:'2021-02-10']\n",
    "    test_set=s['2021-02-11':'2021-02-19']\n",
    "    k=5\n",
    "    residential_train_Data_servicepoint=make_features(train_set,'daily')\n",
    "    residential_test_data_service_point=make_features(test_set,'daily')\n",
    "    resi_winter_temp=residential_test_data_service_point['TMP']\n",
    "    resi_below_5=residential_train_Data_servicepoint[residential_train_Data_servicepoint['TMP']<5]\n",
    "    plt.scatter(resi_below_5['TMP'],resi_below_5['Energy_kwh'])\n",
    "    plt.show()\n",
    "    Q1=resi_below_5[resi_below_5.columns[0]].quantile(0.25)\n",
    "    Q3=resi_below_5[resi_below_5.columns[0]].quantile(0.75)\n",
    "    IQR=Q3-Q1\n",
    "    th=Q1-1.5*IQR\n",
    "    for index,row in resi_below_5[resi_below_5['TMP']<5].iterrows():\n",
    "        if row['Energy_kwh']<th and row['TMP']<0:\n",
    "            print(row['Energy_kwh'],row['TMP'])\n",
    "            resi_below_5_1=resi_below_5.drop(index)\n",
    "        else:\n",
    "            resi_below_5_1=resi_below_5\n",
    "    q=resi_below_5_1[resi_below_5_1['TMP']<5]\n",
    "    plt.scatter(q['TMP'],q['Energy_kwh'])\n",
    "    plt.xlabel('temperature(celsius)')\n",
    "    plt.ylabel('kwh value')\n",
    "    plt.title(f'{servicepoint}correlation for residential between temp and kwh value')\n",
    "    m, b = np.polyfit(q['TMP'], q['Energy_kwh'], 1)\n",
    "    plt.plot(q['TMP'], m*q['TMP'] + b,color='red')\n",
    "    plt.show()\n",
    "    print(q['TMP'].corr(q['Energy_kwh']))\n",
    "    train_below_5=q[q.columns[k:]]\n",
    "    test_below_5=q['Energy_kwh']\n",
    "    lr_5=LinearRegression()\n",
    "    lr_5.fit(train_below_5,test_below_5)\n",
    "    resi_test_more_than_5=residential_train_Data_servicepoint[residential_train_Data_servicepoint['TMP']>5]\n",
    "    train_above_5=resi_test_more_than_5[resi_test_more_than_5.columns[k:]]\n",
    "    test_above_5=resi_test_more_than_5['Energy_kwh']\n",
    "    lr_above_5=LinearRegression()\n",
    "    lr_above_5.fit(train_above_5,test_above_5)\n",
    "    winter_test_data=residential_test_data_service_point[residential_test_data_service_point.columns[k:]]\n",
    "    winter_data_below_5=winter_test_data[winter_test_data['TMP']<5]\n",
    "    winter_data_above_5=winter_test_data[winter_test_data['TMP']>5]\n",
    "    pred_below_5=lr_5.predict(winter_data_below_5)\n",
    "    a=pred_below_5\n",
    "    frames=[a]\n",
    "    predictions = np.concatenate(frames)\n",
    "    perc_diff=100*(pred_below_5-residential_test_data_service_point['Energy_kwh']['2021-02-11':'2021-02-19'])/residential_test_data_service_point['Energy_kwh']['2021-02-11':'2021-02-19']\n",
    "    di=pd.DataFrame(perc_diff)\n",
    "    di['timestamp']=di.index\n",
    "    figure(figsize=(15,10), dpi=80)\n",
    "    fig, ax1 = plt.subplots(figsize=(15,5))\n",
    "    ax1.bar(di['timestamp'],di['Energy_kwh'],color='blue')\n",
    "    ax1.legend(['kwh difference between measured load and predicted load'],loc='center')\n",
    "    ax2=ax1.twinx()\n",
    "    ax2.plot(residential_test_data_service_point['TMP']['2021-02-11':'2021-02-19'],color='red')\n",
    "    ax2.legend(['temp celcius'])\n",
    "    plt.title(servicepoint)\n",
    "    plt.show()\n",
    "    return residential_test_data_service_point['Energy_kwh']['2021-02-11':'2021-02-19']"
   ]
  },
  {
   "cell_type": "code",
   "execution_count": 13,
   "metadata": {},
   "outputs": [
    {
     "data": {
      "image/png": "[encoded data removed]",
      "text/plain": [
       "<Figure size 432x288 with 1 Axes>"
      ]
     },
     "metadata": {
      "needs_background": "light"
     },
     "output_type": "display_data"
    },
    {
     "name": "stdout",
     "output_type": "stream",
     "text": [
      "7836.544762194157 -0.8\n"
     ]
    },
    {
     "data": {
      "image/png": "[encoded data removed]",
      "text/plain": [
       "<Figure size 432x288 with 1 Axes>"
      ]
     },
     "metadata": {
      "needs_background": "light"
     },
     "output_type": "display_data"
    },
    {
     "name": "stdout",
     "output_type": "stream",
     "text": [
      "-0.25402931993193634\n"
     ]
    },
    {
     "data": {
      "text/plain": [
       "<Figure size 1200x800 with 0 Axes>"
      ]
     },
     "metadata": {},
     "output_type": "display_data"
    },
    {
     "data": {
      "image/png": "[encoded data removed]",
      "text/plain": [
       "<Figure size 1080x360 with 2 Axes>"
      ]
     },
     "metadata": {
      "needs_background": "light"
     },
     "output_type": "display_data"
    },
    {
     "data": {
      "text/plain": [
       "-1403 kWh DateTime\n",
       "2021-02-11    31281.181183\n",
       "2021-02-12    34960.707672\n",
       "2021-02-13    36484.221100\n",
       "2021-02-14    38180.651459\n",
       "2021-02-15    20559.108570\n",
       "2021-02-16        0.000000\n",
       "2021-02-17        0.000000\n",
       "2021-02-18    11318.138004\n",
       "2021-02-19    31141.230072\n",
       "Freq: D, Name: Energy_kwh, dtype: float64"
      ]
     },
     "execution_count": 13,
     "metadata": {},
     "output_type": "execute_result"
    }
   ],
   "source": [
    "function(-1403)"
   ]
  }
 ],
 "metadata": {
  "kernelspec": {
   "display_name": "Python 3",
   "language": "python",
   "name": "python3"
  },
  "language_info": {
   "codemirror_mode": {
    "name": "ipython",
    "version": 3
   },
   "file_extension": ".py",
   "mimetype": "text/x-python",
   "name": "python",
   "nbconvert_exporter": "python",
   "pygments_lexer": "ipython3",
   "version": "3.7.0"
  }
 },
 "nbformat": 4,
 "nbformat_minor": 2
}
